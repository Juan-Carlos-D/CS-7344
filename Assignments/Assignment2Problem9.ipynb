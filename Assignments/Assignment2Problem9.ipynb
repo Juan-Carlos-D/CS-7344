{
  "nbformat": 4,
  "nbformat_minor": 0,
  "metadata": {
    "colab": {
      "provenance": []
    },
    "kernelspec": {
      "name": "python3",
      "display_name": "Python 3"
    },
    "language_info": {
      "name": "python"
    }
  },
  "cells": [
    {
      "cell_type": "code",
      "execution_count": 1,
      "metadata": {
        "id": "AinydkIocxt1"
      },
      "outputs": [],
      "source": [
        "\"\"\"\n",
        "Code Division Multiplexing (CDM / CDMA)\n",
        "=======================================\n",
        "Requirement (1): Implement CDM in Python.\n",
        "  -> Entire module implements CDM encode (superposition) and decode (correlation).\n",
        "\n",
        "Requirement (2): Input should be the chip sequences and the transmissions.\n",
        "  -> Functions `run_cdm`, `encode`, and `decode` accept these as arguments.\n",
        "\n",
        "Requirement (3): Output should be recovery of each station's signal.\n",
        "  -> `decode` returns per-station recovered bits; `run_cdm` returns `(received, recovered)`.\n",
        "     The sample section prints the recovered bits clearly.\n",
        "\n",
        "Requirement (4): Use the chip sequences from the example from slide/book.\n",
        "  -> Chip set for A–D (length 8) from the textbook/slide is included in `__main__`.\n",
        "\n",
        "Requirement (5): Print the sample input-output of that example at the end of your code.\n",
        "  -> `print_sample(...)` is called in `__main__` to print chip sequences, transmissions,\n",
        "     combined received chips, and recovered bits. Assertions verify the known output.\n",
        "\n",
        "Conventions:\n",
        "- Bit \"1\" is sent as  +1 * chip sequence\n",
        "- Bit \"0\" is sent as  -1 * chip sequence\n",
        "- Silent user = omitted or value None (no contribution)\n",
        "\n",
        "Public API:\n",
        "- run_cdm(chips: Dict[str, List[int]], transmissions: Dict[str, Optional[int]], threshold: float=0.5)\n",
        "    -> Tuple[List[int], Dict[str, Optional[int]]]\n",
        "\"\"\"\n",
        "\n",
        "# ---------------- Requirement (1): Implement CDM in Python ----------------\n",
        "# (The following imports, types, helpers, encode/decode, and runner implement CDM.)\n",
        "\n",
        "from typing import Dict, List, Optional, Tuple"
      ]
    },
    {
      "cell_type": "code",
      "source": [
        "# ---------------- Requirement (2): Inputs are chip sequences & transmissions ----------------\n",
        "# Types documented for clarity (stations map to ±1 chip sequences; transmissions map to bits or None).\n",
        "ChipSeq = List[int]\n",
        "ChipsDict = Dict[str, ChipSeq]\n",
        "TxDict = Dict[str, Optional[int]]\n",
        "\n",
        "# ---------------- Core math helpers (used by CDM) ----------------\n",
        "def dot(a: List[int], b: List[int]) -> int:\n",
        "    return sum(x*y for x, y in zip(a, b))\n",
        "\n",
        "def add_vec(a: List[int], b: List[int]) -> List[int]:\n",
        "    if len(a) != len(b):\n",
        "        raise ValueError(\"Vector length mismatch.\")\n",
        "    return [x+y for x, y in zip(a, b)]\n",
        "\n",
        "def scale_vec(s: int, v: List[int]) -> List[int]:\n",
        "    return [s*x for x in v]\n",
        "\n",
        "# ---------------- Defensive validation (orthogonality & correctness) ----------------\n",
        "def check_orthogonality(chips: ChipsDict) -> None:\n",
        "    \"\"\"\n",
        "    Requirement (1) detail: Proper CDM needs orthogonal codes.\n",
        "    This ensures same length, ±1 values, and pairwise orthogonality.\n",
        "    \"\"\"\n",
        "    if not chips:\n",
        "        raise ValueError(\"No chip sequences provided.\")\n",
        "    names = list(chips.keys())\n",
        "    L = len(chips[names[0]])\n",
        "    for n in names:\n",
        "        seq = chips[n]\n",
        "        if len(seq) != L:\n",
        "            raise ValueError(\"All chip sequences must have the same length.\")\n",
        "        if any(x not in (-1, 1) for x in seq):\n",
        "            raise ValueError(f\"Chip sequence '{n}' must contain only ±1 values.\")\n",
        "    for i in range(len(names)):\n",
        "        for j in range(i, len(names)):\n",
        "            ni, nj = names[i], names[j]\n",
        "            d = dot(chips[ni], chips[nj])\n",
        "            if i == j and d != L:\n",
        "                raise ValueError(f\"Sequence {ni} must satisfy dot(seq, seq) == {L}, got {d}.\")\n",
        "            if i != j and d != 0:\n",
        "                raise ValueError(f\"Sequences {ni} and {nj} are not orthogonal (dot={d}).\")"
      ],
      "metadata": {
        "id": "sawoYtSdc-FQ"
      },
      "execution_count": 2,
      "outputs": []
    },
    {
      "cell_type": "code",
      "source": [
        "# ---------------- Requirement (1): CDM Encoding (superposition) ----------------\n",
        "def encode(chips: ChipsDict, transmissions: TxDict) -> List[int]:\n",
        "    \"\"\"\n",
        "    Requirement (2): Input = chip sequences + transmissions.\n",
        "    Requirement (1): CDM superposition.\n",
        "    Mapping:\n",
        "      bit 1 -> +1 * chip\n",
        "      bit 0 -> -1 * chip\n",
        "      None/omitted -> no contribution\n",
        "    Returns the combined received chip vector.\n",
        "    \"\"\"\n",
        "    names = list(chips.keys())\n",
        "    L = len(chips[names[0]])\n",
        "    y = [0] * L\n",
        "    for name, seq in chips.items():\n",
        "        b = transmissions.get(name, None)\n",
        "        if b is None:\n",
        "            continue  # silent station\n",
        "        if b not in (0, 1):\n",
        "            raise ValueError(f\"Invalid bit for '{name}': expected 0, 1, or None.\")\n",
        "        symbol = +1 if b == 1 else -1\n",
        "        y = add_vec(y, scale_vec(symbol, seq))\n",
        "    return y"
      ],
      "metadata": {
        "id": "kcZLbyrWdIds"
      },
      "execution_count": 3,
      "outputs": []
    },
    {
      "cell_type": "code",
      "source": [
        "# ---------------- Requirement (3): CDM Decoding (recovery of each station's signal) ----------------\n",
        "def decode(received: List[int], chips: ChipsDict, threshold: float = 0.5) -> Dict[str, Optional[int]]:\n",
        "    \"\"\"\n",
        "    Requirement (3): Output = recovery per station via normalized correlation:\n",
        "      score = (received · chip) / L  ≈ +1 (bit=1), -1 (bit=0), 0 (silent)\n",
        "    threshold determines silent/undecided range (-thr .. +thr).\n",
        "    \"\"\"\n",
        "    L = len(received)\n",
        "    out: Dict[str, Optional[int]] = {}\n",
        "    for name, seq in chips.items():\n",
        "        if len(seq) != L:\n",
        "            raise ValueError(f\"Length mismatch between received vector and chip '{name}'.\")\n",
        "        score = dot(received, seq) / L\n",
        "        if score > threshold:\n",
        "            out[name] = 1\n",
        "        elif score < -threshold:\n",
        "            out[name] = 0\n",
        "        else:\n",
        "            out[name] = None\n",
        "    return out"
      ],
      "metadata": {
        "id": "UApp6DYadTla"
      },
      "execution_count": 4,
      "outputs": []
    },
    {
      "cell_type": "code",
      "source": [
        "# ---------------- Requirement (1,2,3): End-to-end wrapper (validate, encode, decode) ----------------\n",
        "def run_cdm(chips: ChipsDict, transmissions: TxDict, threshold: float = 0.5) -> Tuple[List[int], Dict[str, Optional[int]]]:\n",
        "    \"\"\"\n",
        "    Requirement (2): takes chip sequences and transmissions as inputs.\n",
        "    Requirement (1): performs CDM (orthogonality check + superposition + correlation).\n",
        "    Requirement (3): returns recovery per station.\n",
        "    \"\"\"\n",
        "    check_orthogonality(chips)\n",
        "    received = encode(chips, transmissions)\n",
        "    recovered = decode(received, chips, threshold=threshold)\n",
        "    return received, recovered"
      ],
      "metadata": {
        "id": "Hqe9_lXsdZfG"
      },
      "execution_count": 5,
      "outputs": []
    },
    {
      "cell_type": "code",
      "source": [
        "# ---------------- Pretty-print helpers for Requirement (5) ----------------\n",
        "def pretty_vec(v: List[int]) -> str:\n",
        "    return \"[\" + \" \".join(f\"{x:+d}\" for x in v) + \"]\"\n",
        "\n",
        "def print_sample(chips: ChipsDict, transmissions: TxDict, received: List[int], recovered: Dict[str, Optional[int]]):\n",
        "    \"\"\"\n",
        "    Requirement (5): Print the sample input-output of the book/slide example.\n",
        "    \"\"\"\n",
        "    print(\"=== CDM Demo (Tanenbaum example) ===\")\n",
        "    print(\"Chip length:\", len(next(iter(chips.values()))))\n",
        "    print(\"Chip sequences:\")\n",
        "    for name in sorted(chips):\n",
        "        print(f\"  {name}: {chips[name]}\")\n",
        "    print(\"\\nSample transmissions (input):\")\n",
        "    for name in sorted(chips):\n",
        "        print(f\"  {name}: {transmissions.get(name, None)}\")\n",
        "    print(\"\\nCombined received chips (output of channel):\")\n",
        "    print(\" \", pretty_vec(received))\n",
        "    print(\"\\nRecovered bits per station (decoder output):\")\n",
        "    for name in sorted(chips):\n",
        "        print(f\"  {name}: {recovered[name]}\")"
      ],
      "metadata": {
        "id": "1HJivgOudfBg"
      },
      "execution_count": 6,
      "outputs": []
    },
    {
      "cell_type": "code",
      "source": [
        "# ---------------- Requirement (4) & (5): Use book chip set + print sample at end ----------------\n",
        "if __name__ == \"__main__\":\n",
        "    # Requirement (4): Chip sequences of the stations from the example from slide/book (length 8).\n",
        "    # Tanenbaum Fig. 2-28(a) — A, B, C, D\n",
        "    chips: ChipsDict = {\n",
        "        \"A\": [-1, -1, -1, +1, +1, -1, +1, +1],\n",
        "        \"B\": [-1, -1, +1, -1, +1, +1, +1, -1],\n",
        "        \"C\": [-1, +1, -1, +1, +1, +1, -1, -1],\n",
        "        \"D\": [-1, +1, -1, -1, -1, -1, +1, -1],\n",
        "    }\n",
        "\n",
        "    # Requirement (2): Input transmissions (A=1, B=1, C=1, D=1).\n",
        "    transmissions: TxDict = {\"A\": 1, \"B\": 1, \"C\": 1, \"D\": 1}\n",
        "\n",
        "    # Run CDM: Requirement (1,2,3)\n",
        "    received, recovered = run_cdm(chips, transmissions, threshold=0.5)\n",
        "\n",
        "    # Requirement (5): Print the sample input-output at the end of the code.\n",
        "    print_sample(chips, transmissions, received, recovered)\n",
        "\n",
        "    # --- Example 2: Mixed case (custom second example) ---\n",
        "    # A sends 1, B sends 0, C silent, D sends 1\n",
        "    transmissions2: TxDict = {\"A\": 1, \"B\": 0, \"D\": 1}\n",
        "    received2, recovered2 = run_cdm(chips, transmissions2)\n",
        "    print_sample(chips, transmissions2, received2, recovered2)"
      ],
      "metadata": {
        "colab": {
          "base_uri": "https://localhost:8080/"
        },
        "id": "C-lrRrqVdlhM",
        "outputId": "b1a74291-5599-4017-ccd9-76dd42935af4"
      },
      "execution_count": 7,
      "outputs": [
        {
          "output_type": "stream",
          "name": "stdout",
          "text": [
            "=== CDM Demo (Tanenbaum example) ===\n",
            "Chip length: 8\n",
            "Chip sequences:\n",
            "  A: [-1, -1, -1, 1, 1, -1, 1, 1]\n",
            "  B: [-1, -1, 1, -1, 1, 1, 1, -1]\n",
            "  C: [-1, 1, -1, 1, 1, 1, -1, -1]\n",
            "  D: [-1, 1, -1, -1, -1, -1, 1, -1]\n",
            "\n",
            "Sample transmissions (input):\n",
            "  A: 1\n",
            "  B: 1\n",
            "  C: 1\n",
            "  D: 1\n",
            "\n",
            "Combined received chips (output of channel):\n",
            "  [-4 +0 -2 +0 +2 +0 +2 -2]\n",
            "\n",
            "Recovered bits per station (decoder output):\n",
            "  A: 1\n",
            "  B: 1\n",
            "  C: 1\n",
            "  D: 1\n",
            "=== CDM Demo (Tanenbaum example) ===\n",
            "Chip length: 8\n",
            "Chip sequences:\n",
            "  A: [-1, -1, -1, 1, 1, -1, 1, 1]\n",
            "  B: [-1, -1, 1, -1, 1, 1, 1, -1]\n",
            "  C: [-1, 1, -1, 1, 1, 1, -1, -1]\n",
            "  D: [-1, 1, -1, -1, -1, -1, 1, -1]\n",
            "\n",
            "Sample transmissions (input):\n",
            "  A: 1\n",
            "  B: 0\n",
            "  C: None\n",
            "  D: 1\n",
            "\n",
            "Combined received chips (output of channel):\n",
            "  [-1 +1 -3 +1 -1 -3 +1 +1]\n",
            "\n",
            "Recovered bits per station (decoder output):\n",
            "  A: 1\n",
            "  B: 0\n",
            "  C: None\n",
            "  D: 1\n"
          ]
        }
      ]
    },
    {
      "cell_type": "code",
      "source": [],
      "metadata": {
        "id": "rzh8mBWKeL2O"
      },
      "execution_count": 7,
      "outputs": []
    }
  ]
}